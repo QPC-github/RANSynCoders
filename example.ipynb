{
 "cells": [
  {
   "cell_type": "markdown",
   "metadata": {},
   "source": [
    "# RANSynCoders Example "
   ]
  },
  {
   "cell_type": "markdown",
   "metadata": {},
   "source": [
    "#### Packages"
   ]
  },
  {
   "cell_type": "code",
   "execution_count": 1,
   "metadata": {},
   "outputs": [],
   "source": [
    "from eval_methods import bf_search, blind_bf_search, calc_twseq, calc_seq\n",
    "from main import RANSynCoders\n",
    "import matplotlib.pyplot as plt\n",
    "import numpy as np\n",
    "import os\n",
    "import pandas as pd\n",
    "from sklearn.preprocessing import MinMaxScaler"
   ]
  },
  {
   "cell_type": "markdown",
   "metadata": {},
   "source": [
    "## Data Setup\n",
    "The attached PSM dataset is used in this example"
   ]
  },
  {
   "cell_type": "markdown",
   "metadata": {},
   "source": [
    "#### Training data"
   ]
  },
  {
   "cell_type": "code",
   "execution_count": 2,
   "metadata": {},
   "outputs": [
    {
     "data": {
      "text/html": [
       "<div>\n",
       "<style scoped>\n",
       "    .dataframe tbody tr th:only-of-type {\n",
       "        vertical-align: middle;\n",
       "    }\n",
       "\n",
       "    .dataframe tbody tr th {\n",
       "        vertical-align: top;\n",
       "    }\n",
       "\n",
       "    .dataframe thead th {\n",
       "        text-align: right;\n",
       "    }\n",
       "</style>\n",
       "<table border=\"1\" class=\"dataframe\">\n",
       "  <thead>\n",
       "    <tr style=\"text-align: right;\">\n",
       "      <th></th>\n",
       "      <th>feature_0</th>\n",
       "      <th>feature_1</th>\n",
       "      <th>feature_2</th>\n",
       "      <th>feature_3</th>\n",
       "      <th>feature_4</th>\n",
       "      <th>feature_5</th>\n",
       "      <th>feature_6</th>\n",
       "      <th>feature_7</th>\n",
       "      <th>feature_8</th>\n",
       "      <th>feature_9</th>\n",
       "      <th>...</th>\n",
       "      <th>feature_15</th>\n",
       "      <th>feature_16</th>\n",
       "      <th>feature_17</th>\n",
       "      <th>feature_18</th>\n",
       "      <th>feature_19</th>\n",
       "      <th>feature_20</th>\n",
       "      <th>feature_21</th>\n",
       "      <th>feature_22</th>\n",
       "      <th>feature_23</th>\n",
       "      <th>feature_24</th>\n",
       "    </tr>\n",
       "    <tr>\n",
       "      <th>timestamp_(min)</th>\n",
       "      <th></th>\n",
       "      <th></th>\n",
       "      <th></th>\n",
       "      <th></th>\n",
       "      <th></th>\n",
       "      <th></th>\n",
       "      <th></th>\n",
       "      <th></th>\n",
       "      <th></th>\n",
       "      <th></th>\n",
       "      <th></th>\n",
       "      <th></th>\n",
       "      <th></th>\n",
       "      <th></th>\n",
       "      <th></th>\n",
       "      <th></th>\n",
       "      <th></th>\n",
       "      <th></th>\n",
       "      <th></th>\n",
       "      <th></th>\n",
       "      <th></th>\n",
       "    </tr>\n",
       "  </thead>\n",
       "  <tbody>\n",
       "    <tr>\n",
       "      <th>0.0</th>\n",
       "      <td>0.732689</td>\n",
       "      <td>0.761748</td>\n",
       "      <td>0.606848</td>\n",
       "      <td>0.488746</td>\n",
       "      <td>0.424310</td>\n",
       "      <td>0.403609</td>\n",
       "      <td>0.519318</td>\n",
       "      <td>0.398792</td>\n",
       "      <td>0.451453</td>\n",
       "      <td>0.447077</td>\n",
       "      <td>...</td>\n",
       "      <td>0.318797</td>\n",
       "      <td>0.451856</td>\n",
       "      <td>0.571500</td>\n",
       "      <td>0.469717</td>\n",
       "      <td>0.609883</td>\n",
       "      <td>0.008432</td>\n",
       "      <td>0.0</td>\n",
       "      <td>0.481838</td>\n",
       "      <td>0.006536</td>\n",
       "      <td>0.138249</td>\n",
       "    </tr>\n",
       "    <tr>\n",
       "      <th>1.0</th>\n",
       "      <td>0.732799</td>\n",
       "      <td>0.761855</td>\n",
       "      <td>0.607133</td>\n",
       "      <td>0.488781</td>\n",
       "      <td>0.432008</td>\n",
       "      <td>0.410256</td>\n",
       "      <td>0.511364</td>\n",
       "      <td>0.402568</td>\n",
       "      <td>0.455657</td>\n",
       "      <td>0.449474</td>\n",
       "      <td>...</td>\n",
       "      <td>0.321463</td>\n",
       "      <td>0.456123</td>\n",
       "      <td>0.562226</td>\n",
       "      <td>0.466533</td>\n",
       "      <td>0.629812</td>\n",
       "      <td>0.008432</td>\n",
       "      <td>0.0</td>\n",
       "      <td>0.477218</td>\n",
       "      <td>0.006536</td>\n",
       "      <td>0.115207</td>\n",
       "    </tr>\n",
       "    <tr>\n",
       "      <th>2.0</th>\n",
       "      <td>0.732938</td>\n",
       "      <td>0.761594</td>\n",
       "      <td>0.606895</td>\n",
       "      <td>0.488791</td>\n",
       "      <td>0.418858</td>\n",
       "      <td>0.407724</td>\n",
       "      <td>0.488636</td>\n",
       "      <td>0.396526</td>\n",
       "      <td>0.456104</td>\n",
       "      <td>0.451282</td>\n",
       "      <td>...</td>\n",
       "      <td>0.347219</td>\n",
       "      <td>0.456692</td>\n",
       "      <td>0.572002</td>\n",
       "      <td>0.487845</td>\n",
       "      <td>0.643598</td>\n",
       "      <td>0.006745</td>\n",
       "      <td>0.0</td>\n",
       "      <td>0.492623</td>\n",
       "      <td>0.008715</td>\n",
       "      <td>0.092166</td>\n",
       "    </tr>\n",
       "    <tr>\n",
       "      <th>3.0</th>\n",
       "      <td>0.732893</td>\n",
       "      <td>0.761656</td>\n",
       "      <td>0.606478</td>\n",
       "      <td>0.488802</td>\n",
       "      <td>0.417896</td>\n",
       "      <td>0.404242</td>\n",
       "      <td>0.500000</td>\n",
       "      <td>0.405589</td>\n",
       "      <td>0.460020</td>\n",
       "      <td>0.456628</td>\n",
       "      <td>...</td>\n",
       "      <td>0.361904</td>\n",
       "      <td>0.460532</td>\n",
       "      <td>0.563354</td>\n",
       "      <td>0.479512</td>\n",
       "      <td>0.644690</td>\n",
       "      <td>0.008432</td>\n",
       "      <td>0.0</td>\n",
       "      <td>0.457064</td>\n",
       "      <td>0.008715</td>\n",
       "      <td>0.142857</td>\n",
       "    </tr>\n",
       "    <tr>\n",
       "      <th>4.0</th>\n",
       "      <td>0.732788</td>\n",
       "      <td>0.761573</td>\n",
       "      <td>0.606777</td>\n",
       "      <td>0.488800</td>\n",
       "      <td>0.421103</td>\n",
       "      <td>0.407407</td>\n",
       "      <td>0.511364</td>\n",
       "      <td>0.399547</td>\n",
       "      <td>0.458507</td>\n",
       "      <td>0.454611</td>\n",
       "      <td>...</td>\n",
       "      <td>0.359767</td>\n",
       "      <td>0.458825</td>\n",
       "      <td>0.563354</td>\n",
       "      <td>0.448298</td>\n",
       "      <td>0.629948</td>\n",
       "      <td>0.006745</td>\n",
       "      <td>0.0</td>\n",
       "      <td>0.472223</td>\n",
       "      <td>0.006536</td>\n",
       "      <td>0.170507</td>\n",
       "    </tr>\n",
       "  </tbody>\n",
       "</table>\n",
       "<p>5 rows × 25 columns</p>\n",
       "</div>"
      ],
      "text/plain": [
       "                 feature_0  feature_1  feature_2  feature_3  feature_4  \\\n",
       "timestamp_(min)                                                          \n",
       "0.0               0.732689   0.761748   0.606848   0.488746   0.424310   \n",
       "1.0               0.732799   0.761855   0.607133   0.488781   0.432008   \n",
       "2.0               0.732938   0.761594   0.606895   0.488791   0.418858   \n",
       "3.0               0.732893   0.761656   0.606478   0.488802   0.417896   \n",
       "4.0               0.732788   0.761573   0.606777   0.488800   0.421103   \n",
       "\n",
       "                 feature_5  feature_6  feature_7  feature_8  feature_9  ...  \\\n",
       "timestamp_(min)                                                         ...   \n",
       "0.0               0.403609   0.519318   0.398792   0.451453   0.447077  ...   \n",
       "1.0               0.410256   0.511364   0.402568   0.455657   0.449474  ...   \n",
       "2.0               0.407724   0.488636   0.396526   0.456104   0.451282  ...   \n",
       "3.0               0.404242   0.500000   0.405589   0.460020   0.456628  ...   \n",
       "4.0               0.407407   0.511364   0.399547   0.458507   0.454611  ...   \n",
       "\n",
       "                 feature_15  feature_16  feature_17  feature_18  feature_19  \\\n",
       "timestamp_(min)                                                               \n",
       "0.0                0.318797    0.451856    0.571500    0.469717    0.609883   \n",
       "1.0                0.321463    0.456123    0.562226    0.466533    0.629812   \n",
       "2.0                0.347219    0.456692    0.572002    0.487845    0.643598   \n",
       "3.0                0.361904    0.460532    0.563354    0.479512    0.644690   \n",
       "4.0                0.359767    0.458825    0.563354    0.448298    0.629948   \n",
       "\n",
       "                 feature_20  feature_21  feature_22  feature_23  feature_24  \n",
       "timestamp_(min)                                                              \n",
       "0.0                0.008432         0.0    0.481838    0.006536    0.138249  \n",
       "1.0                0.008432         0.0    0.477218    0.006536    0.115207  \n",
       "2.0                0.006745         0.0    0.492623    0.008715    0.092166  \n",
       "3.0                0.008432         0.0    0.457064    0.008715    0.142857  \n",
       "4.0                0.006745         0.0    0.472223    0.006536    0.170507  \n",
       "\n",
       "[5 rows x 25 columns]"
      ]
     },
     "execution_count": 2,
     "metadata": {},
     "output_type": "execute_result"
    }
   ],
   "source": [
    "dirpath = os.getcwd()\n",
    "x_train = pd.read_csv(os.path.join(dirpath, 'data', 'train.csv'), index_col=[0])\n",
    "x_train.head()"
   ]
  },
  {
   "cell_type": "markdown",
   "metadata": {},
   "source": [
    "Synchrony estimation requires consistently sampled training dataset, the steps below adds any missing rows in the dataset"
   ]
  },
  {
   "cell_type": "code",
   "execution_count": 3,
   "metadata": {},
   "outputs": [],
   "source": [
    "#x_train = pd.concat(\n",
    "#    [pd.DataFrame(index = np.arange(x.index[0], x_train.index[-1]+1)), x_train], axis=1\n",
    "#)  # uncomment this to fix index for missing rows (not needed for PSM dataset)\n",
    "x_train.fillna(0, inplace=True)  # imputes missing values"
   ]
  },
  {
   "cell_type": "markdown",
   "metadata": {},
   "source": [
    "#### Test data"
   ]
  },
  {
   "cell_type": "code",
   "execution_count": 4,
   "metadata": {},
   "outputs": [
    {
     "data": {
      "text/html": [
       "<div>\n",
       "<style scoped>\n",
       "    .dataframe tbody tr th:only-of-type {\n",
       "        vertical-align: middle;\n",
       "    }\n",
       "\n",
       "    .dataframe tbody tr th {\n",
       "        vertical-align: top;\n",
       "    }\n",
       "\n",
       "    .dataframe thead th {\n",
       "        text-align: right;\n",
       "    }\n",
       "</style>\n",
       "<table border=\"1\" class=\"dataframe\">\n",
       "  <thead>\n",
       "    <tr style=\"text-align: right;\">\n",
       "      <th></th>\n",
       "      <th>feature_0</th>\n",
       "      <th>feature_1</th>\n",
       "      <th>feature_2</th>\n",
       "      <th>feature_3</th>\n",
       "      <th>feature_4</th>\n",
       "      <th>feature_5</th>\n",
       "      <th>feature_6</th>\n",
       "      <th>feature_7</th>\n",
       "      <th>feature_8</th>\n",
       "      <th>feature_9</th>\n",
       "      <th>...</th>\n",
       "      <th>feature_15</th>\n",
       "      <th>feature_16</th>\n",
       "      <th>feature_17</th>\n",
       "      <th>feature_18</th>\n",
       "      <th>feature_19</th>\n",
       "      <th>feature_20</th>\n",
       "      <th>feature_21</th>\n",
       "      <th>feature_22</th>\n",
       "      <th>feature_23</th>\n",
       "      <th>feature_24</th>\n",
       "    </tr>\n",
       "    <tr>\n",
       "      <th>timestamp_(min)</th>\n",
       "      <th></th>\n",
       "      <th></th>\n",
       "      <th></th>\n",
       "      <th></th>\n",
       "      <th></th>\n",
       "      <th></th>\n",
       "      <th></th>\n",
       "      <th></th>\n",
       "      <th></th>\n",
       "      <th></th>\n",
       "      <th></th>\n",
       "      <th></th>\n",
       "      <th></th>\n",
       "      <th></th>\n",
       "      <th></th>\n",
       "      <th></th>\n",
       "      <th></th>\n",
       "      <th></th>\n",
       "      <th></th>\n",
       "      <th></th>\n",
       "      <th></th>\n",
       "    </tr>\n",
       "  </thead>\n",
       "  <tbody>\n",
       "    <tr>\n",
       "      <th>132480.0</th>\n",
       "      <td>0.775374</td>\n",
       "      <td>0.909185</td>\n",
       "      <td>0.606704</td>\n",
       "      <td>0.660626</td>\n",
       "      <td>0.449968</td>\n",
       "      <td>0.426717</td>\n",
       "      <td>0.471591</td>\n",
       "      <td>0.434668</td>\n",
       "      <td>0.479511</td>\n",
       "      <td>0.478078</td>\n",
       "      <td>...</td>\n",
       "      <td>0.400617</td>\n",
       "      <td>0.480444</td>\n",
       "      <td>0.588670</td>\n",
       "      <td>0.404036</td>\n",
       "      <td>0.638957</td>\n",
       "      <td>0.020236</td>\n",
       "      <td>0.042705</td>\n",
       "      <td>0.173375</td>\n",
       "      <td>0.008715</td>\n",
       "      <td>0.105991</td>\n",
       "    </tr>\n",
       "    <tr>\n",
       "      <th>132481.0</th>\n",
       "      <td>0.775423</td>\n",
       "      <td>0.909142</td>\n",
       "      <td>0.607796</td>\n",
       "      <td>0.660655</td>\n",
       "      <td>0.487813</td>\n",
       "      <td>0.442545</td>\n",
       "      <td>0.505682</td>\n",
       "      <td>0.448640</td>\n",
       "      <td>0.499451</td>\n",
       "      <td>0.494367</td>\n",
       "      <td>...</td>\n",
       "      <td>0.396902</td>\n",
       "      <td>0.500213</td>\n",
       "      <td>0.587041</td>\n",
       "      <td>0.421605</td>\n",
       "      <td>0.637865</td>\n",
       "      <td>0.018550</td>\n",
       "      <td>0.042705</td>\n",
       "      <td>0.191826</td>\n",
       "      <td>0.010893</td>\n",
       "      <td>0.110599</td>\n",
       "    </tr>\n",
       "    <tr>\n",
       "      <th>132482.0</th>\n",
       "      <td>0.775458</td>\n",
       "      <td>0.909004</td>\n",
       "      <td>0.607988</td>\n",
       "      <td>0.660623</td>\n",
       "      <td>0.469532</td>\n",
       "      <td>0.433682</td>\n",
       "      <td>0.477273</td>\n",
       "      <td>0.450906</td>\n",
       "      <td>0.487223</td>\n",
       "      <td>0.484878</td>\n",
       "      <td>...</td>\n",
       "      <td>0.389270</td>\n",
       "      <td>0.487982</td>\n",
       "      <td>0.582404</td>\n",
       "      <td>0.407393</td>\n",
       "      <td>0.636091</td>\n",
       "      <td>0.018550</td>\n",
       "      <td>0.039146</td>\n",
       "      <td>0.188361</td>\n",
       "      <td>0.010893</td>\n",
       "      <td>0.115207</td>\n",
       "    </tr>\n",
       "    <tr>\n",
       "      <th>132483.0</th>\n",
       "      <td>0.775513</td>\n",
       "      <td>0.909200</td>\n",
       "      <td>0.607218</td>\n",
       "      <td>0.660640</td>\n",
       "      <td>0.459910</td>\n",
       "      <td>0.435581</td>\n",
       "      <td>0.482955</td>\n",
       "      <td>0.454683</td>\n",
       "      <td>0.490431</td>\n",
       "      <td>0.488316</td>\n",
       "      <td>...</td>\n",
       "      <td>0.403780</td>\n",
       "      <td>0.491253</td>\n",
       "      <td>0.584660</td>\n",
       "      <td>0.407141</td>\n",
       "      <td>0.638138</td>\n",
       "      <td>0.020236</td>\n",
       "      <td>0.042705</td>\n",
       "      <td>0.186975</td>\n",
       "      <td>0.013072</td>\n",
       "      <td>0.110599</td>\n",
       "    </tr>\n",
       "    <tr>\n",
       "      <th>132484.0</th>\n",
       "      <td>0.775587</td>\n",
       "      <td>0.909318</td>\n",
       "      <td>0.606654</td>\n",
       "      <td>0.660643</td>\n",
       "      <td>0.462155</td>\n",
       "      <td>0.436214</td>\n",
       "      <td>0.477273</td>\n",
       "      <td>0.449396</td>\n",
       "      <td>0.494671</td>\n",
       "      <td>0.487094</td>\n",
       "      <td>...</td>\n",
       "      <td>0.403636</td>\n",
       "      <td>0.495947</td>\n",
       "      <td>0.581527</td>\n",
       "      <td>0.402761</td>\n",
       "      <td>0.632678</td>\n",
       "      <td>0.021922</td>\n",
       "      <td>0.042705</td>\n",
       "      <td>0.156325</td>\n",
       "      <td>0.008715</td>\n",
       "      <td>0.110599</td>\n",
       "    </tr>\n",
       "  </tbody>\n",
       "</table>\n",
       "<p>5 rows × 25 columns</p>\n",
       "</div>"
      ],
      "text/plain": [
       "                 feature_0  feature_1  feature_2  feature_3  feature_4  \\\n",
       "timestamp_(min)                                                          \n",
       "132480.0          0.775374   0.909185   0.606704   0.660626   0.449968   \n",
       "132481.0          0.775423   0.909142   0.607796   0.660655   0.487813   \n",
       "132482.0          0.775458   0.909004   0.607988   0.660623   0.469532   \n",
       "132483.0          0.775513   0.909200   0.607218   0.660640   0.459910   \n",
       "132484.0          0.775587   0.909318   0.606654   0.660643   0.462155   \n",
       "\n",
       "                 feature_5  feature_6  feature_7  feature_8  feature_9  ...  \\\n",
       "timestamp_(min)                                                         ...   \n",
       "132480.0          0.426717   0.471591   0.434668   0.479511   0.478078  ...   \n",
       "132481.0          0.442545   0.505682   0.448640   0.499451   0.494367  ...   \n",
       "132482.0          0.433682   0.477273   0.450906   0.487223   0.484878  ...   \n",
       "132483.0          0.435581   0.482955   0.454683   0.490431   0.488316  ...   \n",
       "132484.0          0.436214   0.477273   0.449396   0.494671   0.487094  ...   \n",
       "\n",
       "                 feature_15  feature_16  feature_17  feature_18  feature_19  \\\n",
       "timestamp_(min)                                                               \n",
       "132480.0           0.400617    0.480444    0.588670    0.404036    0.638957   \n",
       "132481.0           0.396902    0.500213    0.587041    0.421605    0.637865   \n",
       "132482.0           0.389270    0.487982    0.582404    0.407393    0.636091   \n",
       "132483.0           0.403780    0.491253    0.584660    0.407141    0.638138   \n",
       "132484.0           0.403636    0.495947    0.581527    0.402761    0.632678   \n",
       "\n",
       "                 feature_20  feature_21  feature_22  feature_23  feature_24  \n",
       "timestamp_(min)                                                              \n",
       "132480.0           0.020236    0.042705    0.173375    0.008715    0.105991  \n",
       "132481.0           0.018550    0.042705    0.191826    0.010893    0.110599  \n",
       "132482.0           0.018550    0.039146    0.188361    0.010893    0.115207  \n",
       "132483.0           0.020236    0.042705    0.186975    0.013072    0.110599  \n",
       "132484.0           0.021922    0.042705    0.156325    0.008715    0.110599  \n",
       "\n",
       "[5 rows x 25 columns]"
      ]
     },
     "execution_count": 4,
     "metadata": {},
     "output_type": "execute_result"
    }
   ],
   "source": [
    "x_test = pd.read_csv(os.path.join(dirpath, 'data', 'test.csv'), index_col=[0])\n",
    "x_test.head()"
   ]
  },
  {
   "cell_type": "markdown",
   "metadata": {},
   "source": [
    "Prediction data do not require to have consistent sampling, since this method does not use time windows. However, the sample's timestamp is required as part of the model's and must share the same reference frame as that of the training dataset (e.g. epoch-time."
   ]
  },
  {
   "cell_type": "markdown",
   "metadata": {},
   "source": [
    "#### Labels"
   ]
  },
  {
   "cell_type": "code",
   "execution_count": 5,
   "metadata": {},
   "outputs": [
    {
     "data": {
      "text/html": [
       "<div>\n",
       "<style scoped>\n",
       "    .dataframe tbody tr th:only-of-type {\n",
       "        vertical-align: middle;\n",
       "    }\n",
       "\n",
       "    .dataframe tbody tr th {\n",
       "        vertical-align: top;\n",
       "    }\n",
       "\n",
       "    .dataframe thead th {\n",
       "        text-align: right;\n",
       "    }\n",
       "</style>\n",
       "<table border=\"1\" class=\"dataframe\">\n",
       "  <thead>\n",
       "    <tr style=\"text-align: right;\">\n",
       "      <th></th>\n",
       "      <th>label</th>\n",
       "    </tr>\n",
       "    <tr>\n",
       "      <th>timestamp_(min)</th>\n",
       "      <th></th>\n",
       "    </tr>\n",
       "  </thead>\n",
       "  <tbody>\n",
       "    <tr>\n",
       "      <th>132480.0</th>\n",
       "      <td>0</td>\n",
       "    </tr>\n",
       "    <tr>\n",
       "      <th>132481.0</th>\n",
       "      <td>0</td>\n",
       "    </tr>\n",
       "    <tr>\n",
       "      <th>132482.0</th>\n",
       "      <td>0</td>\n",
       "    </tr>\n",
       "    <tr>\n",
       "      <th>132483.0</th>\n",
       "      <td>0</td>\n",
       "    </tr>\n",
       "    <tr>\n",
       "      <th>132484.0</th>\n",
       "      <td>0</td>\n",
       "    </tr>\n",
       "  </tbody>\n",
       "</table>\n",
       "</div>"
      ],
      "text/plain": [
       "                 label\n",
       "timestamp_(min)       \n",
       "132480.0             0\n",
       "132481.0             0\n",
       "132482.0             0\n",
       "132483.0             0\n",
       "132484.0             0"
      ]
     },
     "execution_count": 5,
     "metadata": {},
     "output_type": "execute_result"
    }
   ],
   "source": [
    "y_test = pd.read_csv(os.path.join(dirpath, 'data', 'test_label.csv'), index_col=[0])\n",
    "y_test.head()"
   ]
  },
  {
   "cell_type": "markdown",
   "metadata": {},
   "source": [
    "### Preprocessing"
   ]
  },
  {
   "cell_type": "markdown",
   "metadata": {},
   "source": [
    "#### Extract epochtime (T) Matrix\n",
    "The sampling time is consistent across all features for the PSM dataset, thus a single index can be used to create the T matrix"
   ]
  },
  {
   "cell_type": "code",
   "execution_count": 6,
   "metadata": {},
   "outputs": [],
   "source": [
    "t_train = np.tile(x_train.index.values.reshape(-1,1), (1, x_train.shape[1])) \n",
    "t_test = np.tile(x_test.index.values.reshape(-1,1), (1, x_train.shape[1]))"
   ]
  },
  {
   "cell_type": "markdown",
   "metadata": {},
   "source": [
    "#### Normalization"
   ]
  },
  {
   "cell_type": "code",
   "execution_count": 7,
   "metadata": {},
   "outputs": [],
   "source": [
    "xscaler = MinMaxScaler()\n",
    "x_train_scaled = xscaler.fit_transform(x_train.values)\n",
    "x_test_scaled = xscaler.transform(x_test.values)"
   ]
  },
  {
   "cell_type": "markdown",
   "metadata": {},
   "source": [
    "## Model Setup"
   ]
  },
  {
   "cell_type": "markdown",
   "metadata": {},
   "source": [
    "#### Hyperparameters\n",
    "The logic below for hyperparameter setting is not based on any science. Users are invited to conduct hyperpameter search and evaluation. In General, the encoder-decoder ensembling method increases robustness across a wide range of non-extreme parameter values"
   ]
  },
  {
   "cell_type": "code",
   "execution_count": 8,
   "metadata": {},
   "outputs": [],
   "source": [
    "N = 5 * round((x_train.shape[1] / 3) / 5)  # 10 for both bootstrap sample size and number of estimators\n",
    "encoder_layers = 1  # number of hidden layers for each encoder\n",
    "decoder_layers = 2  # number of hidden layers for each decoder\n",
    "z = int((N / 2) - 1)  # size of latent space\n",
    "activation = 'relu'\n",
    "output_activation = 'sigmoid'\n",
    "S = 5  # Number of frequency components to fit to input signals\n",
    "delta = 0.05\n",
    "batch_size = 180\n",
    "freq_warmup = 5  # pre-training epochs\n",
    "sin_warmup = 5  # synchronization pre-training\n",
    "epochs = 10"
   ]
  },
  {
   "cell_type": "markdown",
   "metadata": {},
   "source": [
    "#### Initialize & compile"
   ]
  },
  {
   "cell_type": "code",
   "execution_count": 9,
   "metadata": {},
   "outputs": [],
   "source": [
    "model = RANSynCoders(\n",
    "    n_estimators=N, \n",
    "    max_features=N, \n",
    "    encoding_depth=encoder_layers, \n",
    "    latent_dim=z, \n",
    "    decoding_depth=decoder_layers, \n",
    "    activation=activation,\n",
    "    output_activation=output_activation,\n",
    "    delta=delta,\n",
    "    synchronize=True,\n",
    "    max_freqs=S,\n",
    ")"
   ]
  },
  {
   "cell_type": "code",
   "execution_count": 10,
   "metadata": {
    "scrolled": false
   },
   "outputs": [
    {
     "name": "stdout",
     "output_type": "stream",
     "text": [
      "\n",
      "Start of frequency pre-train epoch 0\n",
      "pre-reconstruction_loss: 0.03980063\n",
      "Start of frequency pre-train epoch 1\n",
      "pre-reconstruction_loss: 0.024229577\n",
      "Start of frequency pre-train epoch 2\n",
      "pre-reconstruction_loss: 0.021935325\n",
      "Start of frequency pre-train epoch 3\n",
      "pre-reconstruction_loss: 0.01657161\n",
      "Start of frequency pre-train epoch 4\n",
      "WARNING:tensorflow:Layer freqcoder is casting an input tensor from dtype float64 to the layer's dtype of float32, which is new behavior in TensorFlow 2.  The layer has dtype float32 because it's dtype defaults to floatx.\n",
      "\n",
      "If you intended to run this layer in float32, you can safely ignore this warning. If in doubt, this warning is likely only an issue if you are porting a TensorFlow 1.X model to TensorFlow 2.\n",
      "\n",
      "To change all layers to have dtype float64 by default, call `tf.keras.backend.set_floatx('float64')`. To change just this layer, pass dtype='float64' to the layer constructor. If you are the author of this layer, you can disable autocasting by passing autocast=False to the base Layer constructor.\n",
      "\n",
      "found common oscillations at period(s) = [1440.0108695652173, 480.0036231884058, 720.0054347826086, 360.0027173913043, 60.000452898550726]\n",
      "\n",
      "Start of sine representation pre-train epoch 0\n",
      "sine_loss: 0.050426386\n",
      "Start of sine representation pre-train epoch 1\n",
      "sine_loss: 0.026170066\n",
      "Start of sine representation pre-train epoch 2\n",
      "sine_loss: 0.026525384\n",
      "Start of sine representation pre-train epoch 3\n",
      "sine_loss: 0.022121029\n",
      "Start of sine representation pre-train epoch 4\n",
      "sine_loss: 0.022590924\n",
      "Start of epoch 0\n",
      "sine_loss: 0.029855523 upper_bound_loss: 0.0036186888 lower_bound_loss: 0.0061797327\n",
      "Start of epoch 1\n",
      "sine_loss: 0.01699698 upper_bound_loss: 0.005045725 lower_bound_loss: 0.008838269\n",
      "Start of epoch 2\n",
      "sine_loss: 0.017856764 upper_bound_loss: 0.003661177 lower_bound_loss: 0.0026408287\n",
      "Start of epoch 3\n",
      "sine_loss: 0.018261598 upper_bound_loss: 0.003321296 lower_bound_loss: 0.0018295782\n",
      "Start of epoch 4\n",
      "sine_loss: 0.016499788 upper_bound_loss: 0.002568474 lower_bound_loss: 0.0048092613\n",
      "Start of epoch 5\n",
      "sine_loss: 0.07587297 upper_bound_loss: 0.0050250953 lower_bound_loss: 0.006339503\n",
      "Start of epoch 6\n",
      "sine_loss: 0.025109336 upper_bound_loss: 0.0045764204 lower_bound_loss: 0.004746823\n",
      "Start of epoch 7\n",
      "sine_loss: 0.021208812 upper_bound_loss: 0.0022145095 lower_bound_loss: 0.0015183307\n",
      "Start of epoch 8\n",
      "sine_loss: 0.01336031 upper_bound_loss: 0.0022014857 lower_bound_loss: 0.0018259434\n",
      "Start of epoch 9\n",
      "sine_loss: 0.03858246 upper_bound_loss: 0.0058722375 lower_bound_loss: 0.00730751\r"
     ]
    }
   ],
   "source": [
    "model.fit(x_train_scaled, t_train, epochs=epochs, batch_size=batch_size, freq_warmup=freq_warmup, sin_warmup=sin_warmup)"
   ]
  },
  {
   "cell_type": "markdown",
   "metadata": {},
   "source": [
    "#### Saving"
   ]
  },
  {
   "cell_type": "code",
   "execution_count": 11,
   "metadata": {},
   "outputs": [],
   "source": [
    "model.save('example_model.z')"
   ]
  },
  {
   "cell_type": "code",
   "execution_count": 14,
   "metadata": {},
   "outputs": [
    {
     "data": {
      "text/plain": [
       "<AxesSubplot:>"
      ]
     },
     "execution_count": 14,
     "metadata": {},
     "output_type": "execute_result"
    },
    {
     "data": {
      "image/png": "[encoded data removed]",
      "text/plain": [
       "<Figure size 1296x162 with 1 Axes>"
      ]
     },
     "metadata": {
      "needs_background": "light"
     },
     "output_type": "display_data"
    }
   ],
   "source": [
    "# visualize the common oscillations from the latent space output\n",
    "pd.DataFrame(model.freqcoder.layers[1].latent(x_train_scaled).numpy()).plot(figsize=(18,2.25), grid=True)"
   ]
  },
  {
   "cell_type": "markdown",
   "metadata": {},
   "source": [
    "## Results"
   ]
  },
  {
   "cell_type": "markdown",
   "metadata": {},
   "source": [
    "#### Model outputs"
   ]
  },
  {
   "cell_type": "code",
   "execution_count": 16,
   "metadata": {},
   "outputs": [],
   "source": [
    "sins, synched, upper, lower = model.predict(x_test_scaled, t_test, batch_size=batch_size*10)"
   ]
  },
  {
   "cell_type": "markdown",
   "metadata": {},
   "source": [
    "#### Visualize synchronization impact\n",
    "Synchronization results in increasing multicolinearity, thus reducing the amount of information and the size dimensionality of the latent space"
   ]
  },
  {
   "cell_type": "code",
   "execution_count": 17,
   "metadata": {},
   "outputs": [
    {
     "data": {
      "text/plain": [
       "Text(0.5, 1.0, 'After Synchronization')"
      ]
     },
     "execution_count": 17,
     "metadata": {},
     "output_type": "execute_result"
    },
    {
     "data": {
      "image/png": "[encoded data removed]",
      "text/plain": [
       "<Figure size 1296x486 with 4 Axes>"
      ]
     },
     "metadata": {
      "needs_background": "light"
     },
     "output_type": "display_data"
    }
   ],
   "source": [
    "# Get transformed signal\n",
    "x_test_synched = pd.DataFrame(synched, index=x_test.index, columns=x_test.columns)\n",
    "\n",
    "# Compare correlation matriices\n",
    "fig, (ax1, ax2) = plt.subplots(1, 2, sharey=True, figsize=(18,6.75))\n",
    "corr0=ax1.matshow(pd.DataFrame(x_test_scaled).corr(), vmin=-1, vmax=1)\n",
    "fig.colorbar(corr0, ax=ax1)\n",
    "ax1.set_title('Before Synchronization')\n",
    "corr1=ax2.matshow(x_test_synched.corr(), vmin=-1, vmax=1)\n",
    "fig.colorbar(corr1, ax=ax2)\n",
    "ax2.set_title('After Synchronization')"
   ]
  },
  {
   "cell_type": "markdown",
   "metadata": {},
   "source": [
    "### Accuracy evaluation"
   ]
  },
  {
   "cell_type": "code",
   "execution_count": 19,
   "metadata": {},
   "outputs": [],
   "source": [
    "synched_tiles = np.tile(synched.reshape(synched.shape[0], 1, synched.shape[1]), (1, N, 1))\n",
    "result = np.where((synched_tiles < lower) | (synched_tiles > upper), 1, 0)\n",
    "inference = np.mean(np.mean(result, axis=1), axis=1)"
   ]
  },
  {
   "cell_type": "markdown",
   "metadata": {},
   "source": [
    "#### $F1_{best}$"
   ]
  },
  {
   "cell_type": "code",
   "execution_count": 21,
   "metadata": {},
   "outputs": [
    {
     "name": "stdout",
     "output_type": "stream",
     "text": [
      "search range:  0.0 0.9\n",
      "cur thr:  0.0001 [0.43486683670741033, 0.27784932018850933, 0.9999999995898445, 0.9985502677279309, 24381, 92, 63368, 0, 0.0] [0.43486683670741033, 0.27784932018850933, 0.9999999995898445, 0.9985502677279309, 24381, 92, 63368, 0, 0.0] 0.0001 (-1.0, -1.0, -1.0) 0.0\n",
      "cur thr:  0.5000999999999612 [0.8013699329548061, 0.9980432915506645, 0.6694557234447087, 0.0005042546485180815, 16322, 63428, 32, 8059, 178.64158113156336] [0.9407402258969699, 0.9917708565620501, 0.8947130958965124, 0.0028521903556803984, 21814, 63279, 181, 2567, 154.08628658136269] 0.4440999999999674 [0.9407402258969699, 0.9917708565620501, 0.8947130958965124, 0.0028521903556803984, 21814, 63279, 181, 2567, 154.08628658136269] 0.4440999999999674\n",
      "[0.9407402258969699, 0.9917708565620501, 0.8947130958965124, 0.0028521903556803984, 21814, 63279, 181, 2567, 154.08628658136269] 0.4440999999999674 [0.9407402258969699, 0.9917708565620501, 0.8947130958965124, 0.0028521903556803984, 21814, 63279, 181, 2567, 154.08628658136269] 0.4440999999999674\n"
     ]
    }
   ],
   "source": [
    "t, th = bf_search(inference.reshape(-1,1), y_test.values, start=0., end=0.9, step_num=int((0.9-0.)/0.0001), display_freq=5000)"
   ]
  },
  {
   "cell_type": "markdown",
   "metadata": {},
   "source": [
    "F1 = 0.9407402258969699  \n",
    "Precision = 0.9917708565620501  \n",
    "Recall = 0.8947130958965124  "
   ]
  },
  {
   "cell_type": "markdown",
   "metadata": {},
   "source": [
    "#### ${F1^*}_{blind}$"
   ]
  },
  {
   "cell_type": "code",
   "execution_count": 34,
   "metadata": {},
   "outputs": [
    {
     "name": "stdout",
     "output_type": "stream",
     "text": [
      "search range:  0.0 0.9\n",
      "cur in-sample thr:  0.0001 (0.4153563606682816, 0.2621160400610374, 0.9999999869791669, 0.999999995374653, 768.0, 0.0, 2162.0, 0.0) (0.4153563606682816, 0.2621160400610374, 0.9999999869791669, 0.999999995374653, 768.0, 0.0, 2162.0, 0.0) 0.0001\n",
      "cur in-sample thr:  0.5000999999999612 (0.9228561669055504, 0.9999999848024319, 0.8567708221774633, 0.0, 658.0, 2162.0, 0.0, 110.0) (0.9366341223162772, 0.9941520322492393, 0.885416655137804, 0.0018501387518494968, 680.0, 2158.0, 4.0, 88.0) 0.4240999999999696\n",
      "\n",
      "Out-of-sample score:\n",
      "(0.727851385106576, 0.8915094199448205, 0.6149674553691166, 0.03434544532431336, 567.0, 1940.0, 69.0, 355.0) 0.4240999999999696\n"
     ]
    }
   ],
   "source": [
    "split = int(inference.shape[0]/2)\n",
    "inference_test, labels_test = inference[split:], y_test.values[split:]\n",
    "inference_val, labels_val = inference[:split], y_test.values[:split]\n",
    "t, th = blind_bf_search(\n",
    "    inference_test.reshape(-1,1), \n",
    "    labels_test, \n",
    "    (inference_val.reshape(-1,1), labels_val), \n",
    "    start=0., \n",
    "    end=0.9, \n",
    "    step_num=int((0.9-0.)/0.0001), \n",
    "    display_freq=5000, \n",
    "    tw=15  # rolling time window\n",
    ")"
   ]
  },
  {
   "cell_type": "markdown",
   "metadata": {},
   "source": [
    "F1 = 0.727851385106576  \n",
    "Precision = 0.8915094199448205  \n",
    "Recall = 0.6149674553691166  "
   ]
  },
  {
   "cell_type": "markdown",
   "metadata": {},
   "source": [
    "#### $F1_{init}$"
   ]
  },
  {
   "cell_type": "code",
   "execution_count": 38,
   "metadata": {},
   "outputs": [
    {
     "data": {
      "text/plain": [
       "(0.7086926983984027,\n",
       " 0.9883474471573364,\n",
       " 0.5523978652907172,\n",
       " 0.0026372572461346028,\n",
       " 933.0,\n",
       " 4160.0,\n",
       " 11.0,\n",
       " 756.0)"
      ]
     },
     "execution_count": 38,
     "metadata": {},
     "output_type": "execute_result"
    }
   ],
   "source": [
    "calc_twseq(inference.reshape(-1,1), y_test.values, 0, 0.5, 15)"
   ]
  },
  {
   "cell_type": "markdown",
   "metadata": {},
   "source": [
    "F1 = 0.7086926983984027   \n",
    "Precision = 0.9883474471573364  \n",
    "Recall = 0.5523978652907172"
   ]
  },
  {
   "cell_type": "markdown",
   "metadata": {},
   "source": [
    "#### ${F1^*}_{init}$"
   ]
  },
  {
   "cell_type": "code",
   "execution_count": 40,
   "metadata": {},
   "outputs": [
    {
     "data": {
      "text/plain": [
       "(0.8013699329548061,\n",
       " 0.9980432915506645,\n",
       " 0.6694557234447087,\n",
       " 0.0005042546485180815,\n",
       " 16322,\n",
       " 63428,\n",
       " 32,\n",
       " 8059)"
      ]
     },
     "execution_count": 40,
     "metadata": {},
     "output_type": "execute_result"
    }
   ],
   "source": [
    "calc_seq(inference.reshape(-1,1), y_test.values, 0.5, pred=inference.reshape(-1,1)>0.5)"
   ]
  },
  {
   "cell_type": "markdown",
   "metadata": {},
   "source": [
    "F1 = 0.8013699329548061  \n",
    "Precision = 0.9980432915506645    \n",
    "Recall = 0.66945572344470872  "
   ]
  },
  {
   "cell_type": "code",
   "execution_count": null,
   "metadata": {},
   "outputs": [],
   "source": []
  }
 ],
 "metadata": {
  "kernelspec": {
   "display_name": "Python 3",
   "language": "python",
   "name": "python3"
  },
  "language_info": {
   "codemirror_mode": {
    "name": "ipython",
    "version": 3
   },
   "file_extension": ".py",
   "mimetype": "text/x-python",
   "name": "python",
   "nbconvert_exporter": "python",
   "pygments_lexer": "ipython3",
   "version": "3.7.9"
  }
 },
 "nbformat": 4,
 "nbformat_minor": 4
}
